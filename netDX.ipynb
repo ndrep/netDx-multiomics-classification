{
 "cells": [
  {
   "cell_type": "code",
   "execution_count": 1,
   "id": "758e3a65",
   "metadata": {},
   "outputs": [],
   "source": [
    "import rpy2.robjects as robjects"
   ]
  },
  {
   "cell_type": "markdown",
   "id": "eec1febb",
   "metadata": {},
   "source": [
    "# Install package"
   ]
  },
  {
   "cell_type": "code",
   "execution_count": 2,
   "id": "6076876b",
   "metadata": {},
   "outputs": [
    {
     "name": "stderr",
     "output_type": "stream",
     "text": [
      "R[write to console]: Bioconductor version 3.16 (BiocManager 1.30.19), R 4.2.1 (2022-06-23)\n",
      "\n",
      "R[write to console]: Bioconductor version 3.16 (BiocManager 1.30.19), R 4.2.1 (2022-06-23)\n",
      "\n",
      "R[write to console]: Old packages: 'bigmemory.sri', 'BiocParallel', 'learnr', 'rmarkdown'\n",
      "\n"
     ]
    },
    {
     "name": "stdout",
     "output_type": "stream",
     "text": [
      "Update all/some/none? [a/s/n]: n\n"
     ]
    },
    {
     "data": {
      "text/html": [
       "\n",
       "        <span>StrVector with 0 elements.</span>\n",
       "        <table>\n",
       "        <tbody>\n",
       "          <tr>\n",
       "          \n",
       "          </tr>\n",
       "        </tbody>\n",
       "        </table>\n",
       "        "
      ],
      "text/plain": [
       "<rpy2.robjects.vectors.StrVector object at 0x11e113880> [RTYPES.STRSXP]\n",
       "R classes: ('character',)\n",
       "[]"
      ]
     },
     "execution_count": 2,
     "metadata": {},
     "output_type": "execute_result"
    }
   ],
   "source": [
    "robjects.r('''\n",
    "if (!require(\"BiocManager\", quietly = TRUE))\n",
    "    install.packages(\"BiocManager\")\n",
    "BiocManager::install(version = \"3.16\")\n",
    "''')"
   ]
  },
  {
   "cell_type": "markdown",
   "id": "8620691a",
   "metadata": {},
   "source": [
    "# Setup"
   ]
  },
  {
   "cell_type": "code",
   "execution_count": 2,
   "id": "4898fc73",
   "metadata": {},
   "outputs": [
    {
     "data": {
      "text/html": [
       "\n",
       "        <span>BoolVector with 1 elements.</span>\n",
       "        <table>\n",
       "        <tbody>\n",
       "          <tr>\n",
       "          \n",
       "            <td>\n",
       "                   1\n",
       "            </td>\n",
       "          \n",
       "          </tr>\n",
       "        </tbody>\n",
       "        </table>\n",
       "        "
      ],
      "text/plain": [
       "<rpy2.robjects.vectors.BoolVector object at 0x1286ddc00> [RTYPES.LGLSXP]\n",
       "R classes: ('logical',)\n",
       "[       1]"
      ]
     },
     "execution_count": 2,
     "metadata": {},
     "output_type": "execute_result"
    }
   ],
   "source": [
    "robjects.r('''suppressWarnings(suppressMessages(require(netDx)))''')"
   ]
  },
  {
   "cell_type": "markdown",
   "id": "595128f6",
   "metadata": {},
   "source": [
    "# Data"
   ]
  },
  {
   "cell_type": "code",
   "execution_count": 3,
   "id": "629941be",
   "metadata": {},
   "outputs": [
    {
     "data": {
      "text/html": [
       "\n",
       "        <span>StrVector with 21 elements.</span>\n",
       "        <table>\n",
       "        <tbody>\n",
       "          <tr>\n",
       "          \n",
       "            <td>\n",
       "            'curatedT...\n",
       "            </td>\n",
       "          \n",
       "            <td>\n",
       "            'MultiAss...\n",
       "            </td>\n",
       "          \n",
       "            <td>\n",
       "            'Summariz...\n",
       "            </td>\n",
       "          \n",
       "            <td>\n",
       "            ...\n",
       "            </td>\n",
       "          \n",
       "            <td>\n",
       "            'datasets'\n",
       "            </td>\n",
       "          \n",
       "            <td>\n",
       "            'methods'\n",
       "            </td>\n",
       "          \n",
       "            <td>\n",
       "            'base'\n",
       "            </td>\n",
       "          \n",
       "          </tr>\n",
       "        </tbody>\n",
       "        </table>\n",
       "        "
      ],
      "text/plain": [
       "<rpy2.robjects.vectors.StrVector object at 0x12ab1a0c0> [RTYPES.STRSXP]\n",
       "R classes: ('character',)\n",
       "['curatedT..., 'MultiAss..., 'Summariz..., 'Biobase', ..., 'utils', 'datasets', 'methods', 'base']"
      ]
     },
     "execution_count": 3,
     "metadata": {},
     "output_type": "execute_result"
    }
   ],
   "source": [
    "robjects.r('''suppressMessages(library(curatedTCGAData))''')"
   ]
  },
  {
   "cell_type": "code",
   "execution_count": 4,
   "id": "d417834b",
   "metadata": {},
   "outputs": [
    {
     "data": {
      "text/plain": [
       "<rpy2.robjects.functions.SignatureTranslatedFunction object at 0x12ab06c80> [RTYPES.CLOSXP]\n",
       "R classes: ('function',)"
      ]
     },
     "execution_count": 4,
     "metadata": {},
     "output_type": "execute_result"
    }
   ],
   "source": [
    "robjects.r('''\n",
    "brca_data <- function(){\n",
    "    brca <- suppressMessages(\n",
    "    curatedTCGAData(\"BRCA\",\n",
    "               c(\"mRNAArray\",\"miRNA*\",\"Methylation_methyl27*\"),\n",
    "                dry.run=FALSE,version=\"1.1.38\"))\n",
    "    return(brca)\n",
    "}\n",
    "''')"
   ]
  },
  {
   "cell_type": "code",
   "execution_count": 5,
   "id": "6da6e516",
   "metadata": {},
   "outputs": [],
   "source": [
    "brca = robjects.globalenv['brca_data']()"
   ]
  },
  {
   "cell_type": "code",
   "execution_count": 6,
   "id": "8352cfef",
   "metadata": {},
   "outputs": [
    {
     "data": {
      "text/plain": [
       "<rpy2.robjects.functions.SignatureTranslatedFunction object at 0x12ab28400> [RTYPES.CLOSXP]\n",
       "R classes: ('function',)"
      ]
     },
     "execution_count": 6,
     "metadata": {},
     "output_type": "execute_result"
    }
   ],
   "source": [
    "robjects.r('''\n",
    "# setup brca data\n",
    "prepareData <- function(dat, setBinary=FALSE) {\n",
    "    staget <- sub(\"[abcd]\",\"\",sub(\"t\",\"\",colData(dat)$pathology_T_stage))\n",
    "    staget <- suppressWarnings(as.integer(staget))\n",
    "    colData(dat)$STAGE <- staget\n",
    "\n",
    "    tmp <- colData(dat)$PAM50.mRNA\n",
    "    if (!setBinary){\n",
    "        idx <- which(tmp %in% c(\"Normal-like\",\"HER2-enriched\"))\n",
    "    } else {\n",
    "        idx <- union(which(tmp %in% c(\"Normal-like\",\"HER2-enriched\",\"Luminal B\")),\n",
    "                which(is.na(staget)))\n",
    "    }\n",
    "    idx <- union(idx, which(is.na(tmp)))\n",
    "    pID <- colData(dat)$patientID\n",
    "    tokeep <- setdiff(pID, pID[idx])\n",
    "    dat <- dat[,tokeep,]\n",
    "    pam50 <- colData(dat)$PAM50.mRNA\n",
    "\n",
    "    \n",
    "    smp <- sampleMap(dat)\n",
    "    expr <- assays(dat)\n",
    "    for (k in 1:length(expr)) {\n",
    "        samps <- smp[which(smp$assay==names(expr)[k]),]\n",
    "        notdup <- samps[which(!duplicated(samps$primary)),\"colname\"]\n",
    "        #message(sprintf(\"%s: %i notdup\", names(expr)[k], length(notdup)))\n",
    "        dat[[k]] <- suppressMessages(dat[[k]][,notdup])\n",
    "    }\n",
    "\n",
    "    pID <- colData(dat)$patientID\n",
    "    colData(dat)$ID <- pID\n",
    "    colData(dat)$STATUS <- pam50\n",
    "    colData(dat)$STATUS <- gsub(\" \",\".\",colData(dat)$STATUS)\n",
    "    colData(dat)$STATUS <- gsub(\"-\",\".\",colData(dat)$STATUS)\n",
    "\n",
    "    if (setBinary){\n",
    "        st <- colData(dat)$STATUS\n",
    "        st[which(!st %in% \"Luminal.A\")] <- \"other\"\n",
    "        colData(dat)$STATUS <- st\n",
    "    }\n",
    "\n",
    "return(dat)\n",
    "}\n",
    "''')"
   ]
  },
  {
   "cell_type": "code",
   "execution_count": 7,
   "id": "cbf434df",
   "metadata": {},
   "outputs": [
    {
     "name": "stderr",
     "output_type": "stream",
     "text": [
      "R[write to console]: harmonizing input:\n",
      "  removing 28 sampleMap rows with 'colname' not in colnames of experiments\n",
      "\n",
      "R[write to console]: harmonizing input:\n",
      "  removing 44 sampleMap rows with 'colname' not in colnames of experiments\n",
      "\n",
      "R[write to console]: harmonizing input:\n",
      "  removing 19 sampleMap rows with 'colname' not in colnames of experiments\n",
      "\n"
     ]
    }
   ],
   "source": [
    "brca = robjects.globalenv['prepareData'](brca, True)"
   ]
  },
  {
   "cell_type": "code",
   "execution_count": 8,
   "id": "63564fb8",
   "metadata": {},
   "outputs": [
    {
     "data": {
      "text/plain": [
       "<rpy2.robjects.functions.SignatureTranslatedFunction object at 0x12ab2bbc0> [RTYPES.CLOSXP]\n",
       "R classes: ('function',)"
      ]
     },
     "execution_count": 8,
     "metadata": {},
     "output_type": "execute_result"
    }
   ],
   "source": [
    "robjects.r('''\n",
    "grouping_variables <- function(brca){\n",
    "    expr <- assays(brca)\n",
    "    groupList <- list()\n",
    "    for (k in 1:length(expr)) { # loop over all layers\n",
    "        cur <- expr[[k]]; nm <- names(expr)[k]\n",
    "\n",
    "        # all measures from this layer go into our single PSN\n",
    "        groupList[[nm]] <- list(nm=rownames(cur)) \n",
    "\n",
    "        # assign same layer name as in input data\n",
    "        names(groupList[[nm]])[1] <- nm;\n",
    "    \n",
    "    }\n",
    "    \n",
    "    groupList[[\"clinical\"]] <- list(\n",
    "        age=\"patient.age_at_initial_pathologic_diagnosis\",\n",
    "          stage=\"STAGE\"\n",
    "    )\n",
    "    \n",
    "    tmp <- list(rownames(experiments(brca)[[1]]));\n",
    "    names(tmp) <- names(brca)[1]\n",
    "    groupList[[names(brca)[[1]]]] <- tmp\n",
    "\n",
    "    tmp <- list(rownames(experiments(brca)[[2]]));\n",
    "    names(tmp) <- names(brca)[2]\n",
    "    groupList[[names(brca)[2]]] <- tmp\n",
    "\n",
    "    tmp <- list(rownames(experiments(brca)[[3]]));\n",
    "    names(tmp) <- names(brca)[3]\n",
    "    groupList[[names(brca)[3]]] <- tmp\n",
    "    \n",
    "    \n",
    "    return(groupList)\n",
    "}\n",
    "''')"
   ]
  },
  {
   "cell_type": "code",
   "execution_count": 9,
   "id": "12464e21",
   "metadata": {},
   "outputs": [],
   "source": [
    "groupList = robjects.globalenv['grouping_variables'](brca)"
   ]
  },
  {
   "cell_type": "markdown",
   "id": "189ec8c4",
   "metadata": {},
   "source": [
    "cnv_thresh = robjects.globalenv['cnv_thresh'](cnv_thresh)\n",
    "mirna = robjects.globalenv['mirna'](mirna)\n",
    "mrna = robjects.globalenv['mrna'](mrna)\n",
    "proteins = robjects.globalenv['proteins'](proteins)"
   ]
  },
  {
   "cell_type": "code",
   "execution_count": 10,
   "id": "a3a05c76",
   "metadata": {},
   "outputs": [
    {
     "data": {
      "text/plain": [
       "<rpy2.robjects.functions.SignatureTranslatedFunction object at 0x12ab53bc0> [RTYPES.CLOSXP]\n",
       "R classes: ('function',)"
      ]
     },
     "execution_count": 10,
     "metadata": {},
     "output_type": "execute_result"
    }
   ],
   "source": [
    "robjects.r('''\n",
    "create_sims <- function(groupList){\n",
    "    sims <- list(\n",
    "      a=\"pearsonCorr\",\n",
    "      b=\"normDiff\",\n",
    "      c=\"pearsonCorr\",\n",
    "      d=\"pearsonCorr\"\n",
    "      )\n",
    "\n",
    "    # map layer names to sims\n",
    "    names(sims) <- names(groupList)\n",
    "    return(sims)\n",
    "}\n",
    "''')"
   ]
  },
  {
   "cell_type": "code",
   "execution_count": 11,
   "id": "e4d88129",
   "metadata": {},
   "outputs": [],
   "source": [
    "sims = robjects.globalenv['create_sims'](groupList)"
   ]
  },
  {
   "cell_type": "code",
   "execution_count": 14,
   "id": "729b8d53",
   "metadata": {},
   "outputs": [
    {
     "data": {
      "text/plain": [
       "<rpy2.robjects.functions.SignatureTranslatedFunction object at 0x12ab6de40> [RTYPES.CLOSXP]\n",
       "R classes: ('function',)"
      ]
     },
     "execution_count": 14,
     "metadata": {},
     "output_type": "execute_result"
    }
   ],
   "source": [
    "robjects.r('''\n",
    "train_model <- function(brca, groupList, sims){\n",
    "    nco <- round(parallel::detectCores()*0.75) # use 75% available cores\n",
    "    message(sprintf(\"Using %i of %i cores\", nco, parallel::detectCores()))\n",
    "    \n",
    "    outDir <- paste(tempdir(),\"pred_output\",sep=getFileSep()) # use absolute path\n",
    "    if (file.exists(outDir)) unlink(outDir,recursive=TRUE)\n",
    "    numSplits <- 2L\n",
    "\n",
    "    t0 <- Sys.time()\n",
    "    model <- suppressMessages(\n",
    "    buildPredictor(\n",
    "        dataList=brca,          ## your data\n",
    "        groupList=groupList,    ## grouping strategy\n",
    "        sims=sims,\n",
    "        outDir=outDir,          ## output directory\n",
    "        trainProp=0.8,          ## pct of samples to use to train model in\n",
    "                                    ## each split\n",
    "        numSplits=2L,            ## number of train/test splits\n",
    "        featSelCutoff=1L,       ## threshold for calling something\n",
    "                                    ## feature-selected\n",
    "        featScoreMax=2L,    ## max score for feature selection\n",
    "     numCores=nco,            ## set higher for parallelizing\n",
    "     debugMode=FALSE,\n",
    "     keepAllData=FALSE,     ## set to TRUE for debugging\n",
    "     logging=\"none\"     ## set to \"default\" for messages\n",
    "      ))\n",
    "    t1 <- Sys.time()\n",
    "    print(t1-t0)\n",
    "}\n",
    "''')\n"
   ]
  },
  {
   "cell_type": "code",
   "execution_count": 15,
   "id": "6b194143",
   "metadata": {},
   "outputs": [
    {
     "name": "stderr",
     "output_type": "stream",
     "text": [
      "R[write to console]: Using 3 of 4 cores\n",
      "\n",
      "R[write to console]: Errore in { : \n",
      "  task 1 failed - \"memoria 'vector' esaurita (raggiunto il limite?)\"\n",
      "\n"
     ]
    },
    {
     "ename": "RRuntimeError",
     "evalue": "Errore in { : \n  task 1 failed - \"memoria 'vector' esaurita (raggiunto il limite?)\"\n",
     "output_type": "error",
     "traceback": [
      "\u001b[0;31m---------------------------------------------------------------------------\u001b[0m",
      "\u001b[0;31mRRuntimeError\u001b[0m                             Traceback (most recent call last)",
      "Cell \u001b[0;32mIn [15], line 1\u001b[0m\n\u001b[0;32m----> 1\u001b[0m model \u001b[38;5;241m=\u001b[39m \u001b[43mrobjects\u001b[49m\u001b[38;5;241;43m.\u001b[39;49m\u001b[43mglobalenv\u001b[49m\u001b[43m[\u001b[49m\u001b[38;5;124;43m'\u001b[39;49m\u001b[38;5;124;43mtrain_model\u001b[39;49m\u001b[38;5;124;43m'\u001b[39;49m\u001b[43m]\u001b[49m\u001b[43m(\u001b[49m\u001b[43mbrca\u001b[49m\u001b[43m,\u001b[49m\u001b[43m \u001b[49m\u001b[43mgroupList\u001b[49m\u001b[43m,\u001b[49m\u001b[43m \u001b[49m\u001b[43msims\u001b[49m\u001b[43m)\u001b[49m\n",
      "File \u001b[0;32m/usr/local/lib/python3.10/site-packages/rpy2/robjects/functions.py:203\u001b[0m, in \u001b[0;36mSignatureTranslatedFunction.__call__\u001b[0;34m(self, *args, **kwargs)\u001b[0m\n\u001b[1;32m    201\u001b[0m         v \u001b[38;5;241m=\u001b[39m kwargs\u001b[38;5;241m.\u001b[39mpop(k)\n\u001b[1;32m    202\u001b[0m         kwargs[r_k] \u001b[38;5;241m=\u001b[39m v\n\u001b[0;32m--> 203\u001b[0m \u001b[38;5;28;01mreturn\u001b[39;00m (\u001b[38;5;28;43msuper\u001b[39;49m\u001b[43m(\u001b[49m\u001b[43mSignatureTranslatedFunction\u001b[49m\u001b[43m,\u001b[49m\u001b[43m \u001b[49m\u001b[38;5;28;43mself\u001b[39;49m\u001b[43m)\u001b[49m\n\u001b[1;32m    204\u001b[0m \u001b[43m        \u001b[49m\u001b[38;5;241;43m.\u001b[39;49m\u001b[38;5;21;43m__call__\u001b[39;49m\u001b[43m(\u001b[49m\u001b[38;5;241;43m*\u001b[39;49m\u001b[43margs\u001b[49m\u001b[43m,\u001b[49m\u001b[43m \u001b[49m\u001b[38;5;241;43m*\u001b[39;49m\u001b[38;5;241;43m*\u001b[39;49m\u001b[43mkwargs\u001b[49m\u001b[43m)\u001b[49m)\n",
      "File \u001b[0;32m/usr/local/lib/python3.10/site-packages/rpy2/robjects/functions.py:126\u001b[0m, in \u001b[0;36mFunction.__call__\u001b[0;34m(self, *args, **kwargs)\u001b[0m\n\u001b[1;32m    124\u001b[0m     \u001b[38;5;28;01melse\u001b[39;00m:\n\u001b[1;32m    125\u001b[0m         new_kwargs[k] \u001b[38;5;241m=\u001b[39m cv\u001b[38;5;241m.\u001b[39mpy2rpy(v)\n\u001b[0;32m--> 126\u001b[0m res \u001b[38;5;241m=\u001b[39m \u001b[38;5;28;43msuper\u001b[39;49m\u001b[43m(\u001b[49m\u001b[43mFunction\u001b[49m\u001b[43m,\u001b[49m\u001b[43m \u001b[49m\u001b[38;5;28;43mself\u001b[39;49m\u001b[43m)\u001b[49m\u001b[38;5;241;43m.\u001b[39;49m\u001b[38;5;21;43m__call__\u001b[39;49m\u001b[43m(\u001b[49m\u001b[38;5;241;43m*\u001b[39;49m\u001b[43mnew_args\u001b[49m\u001b[43m,\u001b[49m\u001b[43m \u001b[49m\u001b[38;5;241;43m*\u001b[39;49m\u001b[38;5;241;43m*\u001b[39;49m\u001b[43mnew_kwargs\u001b[49m\u001b[43m)\u001b[49m\n\u001b[1;32m    127\u001b[0m res \u001b[38;5;241m=\u001b[39m cv\u001b[38;5;241m.\u001b[39mrpy2py(res)\n\u001b[1;32m    128\u001b[0m \u001b[38;5;28;01mreturn\u001b[39;00m res\n",
      "File \u001b[0;32m/usr/local/lib/python3.10/site-packages/rpy2/rinterface_lib/conversion.py:45\u001b[0m, in \u001b[0;36m_cdata_res_to_rinterface.<locals>._\u001b[0;34m(*args, **kwargs)\u001b[0m\n\u001b[1;32m     44\u001b[0m \u001b[38;5;28;01mdef\u001b[39;00m \u001b[38;5;21m_\u001b[39m(\u001b[38;5;241m*\u001b[39margs, \u001b[38;5;241m*\u001b[39m\u001b[38;5;241m*\u001b[39mkwargs):\n\u001b[0;32m---> 45\u001b[0m     cdata \u001b[38;5;241m=\u001b[39m \u001b[43mfunction\u001b[49m\u001b[43m(\u001b[49m\u001b[38;5;241;43m*\u001b[39;49m\u001b[43margs\u001b[49m\u001b[43m,\u001b[49m\u001b[43m \u001b[49m\u001b[38;5;241;43m*\u001b[39;49m\u001b[38;5;241;43m*\u001b[39;49m\u001b[43mkwargs\u001b[49m\u001b[43m)\u001b[49m\n\u001b[1;32m     46\u001b[0m     \u001b[38;5;66;03m# TODO: test cdata is of the expected CType\u001b[39;00m\n\u001b[1;32m     47\u001b[0m     \u001b[38;5;28;01mreturn\u001b[39;00m _cdata_to_rinterface(cdata)\n",
      "File \u001b[0;32m/usr/local/lib/python3.10/site-packages/rpy2/rinterface.py:815\u001b[0m, in \u001b[0;36mSexpClosure.__call__\u001b[0;34m(self, *args, **kwargs)\u001b[0m\n\u001b[1;32m    808\u001b[0m     res \u001b[38;5;241m=\u001b[39m rmemory\u001b[38;5;241m.\u001b[39mprotect(\n\u001b[1;32m    809\u001b[0m         openrlib\u001b[38;5;241m.\u001b[39mrlib\u001b[38;5;241m.\u001b[39mR_tryEval(\n\u001b[1;32m    810\u001b[0m             call_r,\n\u001b[1;32m    811\u001b[0m             call_context\u001b[38;5;241m.\u001b[39m__sexp__\u001b[38;5;241m.\u001b[39m_cdata,\n\u001b[1;32m    812\u001b[0m             error_occured)\n\u001b[1;32m    813\u001b[0m     )\n\u001b[1;32m    814\u001b[0m     \u001b[38;5;28;01mif\u001b[39;00m error_occured[\u001b[38;5;241m0\u001b[39m]:\n\u001b[0;32m--> 815\u001b[0m         \u001b[38;5;28;01mraise\u001b[39;00m embedded\u001b[38;5;241m.\u001b[39mRRuntimeError(_rinterface\u001b[38;5;241m.\u001b[39m_geterrmessage())\n\u001b[1;32m    816\u001b[0m \u001b[38;5;28;01mreturn\u001b[39;00m res\n",
      "\u001b[0;31mRRuntimeError\u001b[0m: Errore in { : \n  task 1 failed - \"memoria 'vector' esaurita (raggiunto il limite?)\"\n"
     ]
    }
   ],
   "source": [
    "model = robjects.globalenv['train_model'](brca, groupList, sims)"
   ]
  },
  {
   "cell_type": "code",
   "execution_count": null,
   "id": "d3cda026",
   "metadata": {},
   "outputs": [],
   "source": []
  },
  {
   "cell_type": "code",
   "execution_count": null,
   "id": "c08f2bb8",
   "metadata": {},
   "outputs": [],
   "source": []
  },
  {
   "cell_type": "code",
   "execution_count": null,
   "id": "3e6ef687",
   "metadata": {},
   "outputs": [],
   "source": []
  },
  {
   "cell_type": "code",
   "execution_count": null,
   "id": "e56d85b9",
   "metadata": {},
   "outputs": [],
   "source": []
  },
  {
   "cell_type": "code",
   "execution_count": null,
   "id": "15f40635",
   "metadata": {},
   "outputs": [],
   "source": []
  }
 ],
 "metadata": {
  "kernelspec": {
   "display_name": "Python 3 (ipykernel)",
   "language": "python",
   "name": "python3"
  },
  "language_info": {
   "codemirror_mode": {
    "name": "ipython",
    "version": 3
   },
   "file_extension": ".py",
   "mimetype": "text/x-python",
   "name": "python",
   "nbconvert_exporter": "python",
   "pygments_lexer": "ipython3",
   "version": "3.10.7"
  }
 },
 "nbformat": 4,
 "nbformat_minor": 5
}
